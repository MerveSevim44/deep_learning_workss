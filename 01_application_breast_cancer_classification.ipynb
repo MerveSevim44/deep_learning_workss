{
 "cells": [
  {
   "cell_type": "markdown",
   "metadata": {
    "id": "9DrTpx53lvVS"
   },
   "source": [
    "# Problem: Breast Cancer Classification"
   ]
  },
  {
   "cell_type": "markdown",
   "metadata": {
    "id": "dYwqTJcul3bq"
   },
   "source": [
    "# Import"
   ]
  },
  {
   "cell_type": "code",
   "execution_count": null,
   "metadata": {
    "id": "YTp3C7q6l8oV"
   },
   "outputs": [],
   "source": [
    "import numpy as np\n",
    "import pandas as pd\n",
    "import matplotlib.pyplot as plt\n",
    "import seaborn as sns\n",
    "from sklearn.datasets import load_breast_cancer\n",
    "from sklearn.model_selection import train_test_split\n",
    "from sklearn.preprocessing import StandardScaler\n",
    "from sklearn.metrics import accuracy_score\n"
   ]
  },
  {
   "cell_type": "markdown",
   "metadata": {
    "id": "S4Ru2olvl5Ih"
   },
   "source": [
    "# Data Understanding"
   ]
  },
  {
   "cell_type": "code",
   "execution_count": null,
   "metadata": {
    "id": "XEJmPvDyl9hd"
   },
   "outputs": [],
   "source": [
    "data = load_breast_cancer()\n",
    "\n",
    "df = pd.DataFrame(data=data.data, columns=data.feature_names)\n",
    "\n",
    "df['target'] = data.target"
   ]
  },
  {
   "cell_type": "code",
   "execution_count": null,
   "metadata": {
    "id": "B1rO4lPYn1Df"
   },
   "outputs": [],
   "source": [
    "df.shape"
   ]
  },
  {
   "cell_type": "code",
   "execution_count": null,
   "metadata": {
    "id": "O0kEac-_n1L6"
   },
   "outputs": [],
   "source": [
    "df.head()"
   ]
  },
  {
   "cell_type": "code",
   "execution_count": null,
   "metadata": {
    "id": "7TU1ftSGoEH0"
   },
   "outputs": [],
   "source": [
    "df.describe()"
   ]
  },
  {
   "cell_type": "code",
   "execution_count": null,
   "metadata": {
    "id": "LNdrfXeMoEJ_"
   },
   "outputs": [],
   "source": [
    "df.hist(figsize=(20, 20))\n",
    "plt.show()"
   ]
  },
  {
   "cell_type": "code",
   "execution_count": null,
   "metadata": {
    "id": "VYSYXtDCoEXB"
   },
   "outputs": [],
   "source": [
    "df['target'].value_counts()"
   ]
  },
  {
   "cell_type": "code",
   "execution_count": null,
   "metadata": {
    "id": "ImOE1igGoEX3"
   },
   "outputs": [],
   "source": [
    "sns.countplot(x='target', data=df)\n",
    "plt.show()"
   ]
  },
  {
   "cell_type": "code",
   "execution_count": null,
   "metadata": {
    "id": "n3TyC6uSofSm"
   },
   "outputs": [],
   "source": [
    "df.isnull().values.any()"
   ]
  },
  {
   "cell_type": "code",
   "execution_count": null,
   "metadata": {
    "id": "9T86NMhUoqM9"
   },
   "outputs": [],
   "source": [
    "corr_matrix = df.corr()\n",
    "plt.figure(figsize=(10, 10))\n",
    "sns.heatmap(corr_matrix, annot=True, fmt='.2f')\n",
    "plt.show()"
   ]
  },
  {
   "cell_type": "markdown",
   "metadata": {
    "id": "C0mAZA_YmKAd"
   },
   "source": [
    "# Data preparation"
   ]
  },
  {
   "cell_type": "code",
   "execution_count": null,
   "metadata": {
    "id": "L4FRT0SpmMMl"
   },
   "outputs": [],
   "source": [
    "data = load_breast_cancer()\n",
    "\n",
    "X = data.data\n",
    "y = data.target"
   ]
  },
  {
   "cell_type": "code",
   "execution_count": null,
   "metadata": {
    "id": "KMIcvQiCpBVe"
   },
   "outputs": [],
   "source": [
    "X_train, X_val, y_train, y_val = train_test_split(X, y, test_size=0.2, random_state=42)"
   ]
  },
  {
   "cell_type": "code",
   "execution_count": null,
   "metadata": {
    "id": "wcQAXL0vpS9L"
   },
   "outputs": [],
   "source": [
    "scaler = StandardScaler()\n",
    "\n",
    "X_train_scaled = scaler.fit_transform(X_train)\n",
    "\n",
    "X_val_scaled = scaler.transform(X_val)"
   ]
  },
  {
   "cell_type": "markdown",
   "metadata": {
    "id": "P_rHvrNEmLwv"
   },
   "source": [
    "# Update weights and bias manual\n"
   ]
  },
  {
   "cell_type": "markdown",
   "metadata": {
    "id": "OMwwMbd1mNP3"
   },
   "source": [
    "## X, weights, bias and Learning Rate"
   ]
  },
  {
   "cell_type": "code",
   "execution_count": null,
   "metadata": {
    "id": "E9PKr4DjmfPU"
   },
   "outputs": [],
   "source": [
    "lr = 0.01"
   ]
  },
  {
   "cell_type": "code",
   "execution_count": null,
   "metadata": {
    "id": "ejfEKwQGGq95"
   },
   "outputs": [],
   "source": [
    "X_scaled = scaler.transform(X)"
   ]
  },
  {
   "cell_type": "code",
   "execution_count": null,
   "metadata": {
    "id": "YAWT0VMcGrQn"
   },
   "outputs": [],
   "source": [
    "X_scaled[0:1]"
   ]
  },
  {
   "cell_type": "code",
   "execution_count": null,
   "metadata": {
    "id": "VjUUftBhGrTx"
   },
   "outputs": [],
   "source": [
    "weights = np.random.normal(0, 1, 30)\n",
    "\n",
    "bias = 0.1"
   ]
  },
  {
   "cell_type": "code",
   "execution_count": null,
   "metadata": {
    "id": "Wv7-MPAxJaxK"
   },
   "outputs": [],
   "source": [
    "weights"
   ]
  },
  {
   "cell_type": "markdown",
   "metadata": {
    "id": "-FTUF-xmmNR6"
   },
   "source": [
    "## z = np.dot(X, weights) + bias"
   ]
  },
  {
   "cell_type": "code",
   "execution_count": null,
   "metadata": {
    "id": "XF73kWGrIpBe"
   },
   "outputs": [],
   "source": [
    "z = np.dot(X_scaled, weights) + bias"
   ]
  },
  {
   "cell_type": "code",
   "execution_count": null,
   "metadata": {
    "id": "yeO3FttxIpE0"
   },
   "outputs": [],
   "source": [
    "z[0:5]"
   ]
  },
  {
   "cell_type": "code",
   "execution_count": null,
   "metadata": {
    "id": "aHtdJ11HIpI2"
   },
   "outputs": [],
   "source": [
    "len(z)"
   ]
  },
  {
   "cell_type": "markdown",
   "metadata": {
    "id": "IinORavsmNTp"
   },
   "source": [
    "## Sigmoid and y_prob"
   ]
  },
  {
   "cell_type": "code",
   "execution_count": null,
   "metadata": {
    "id": "8bAomk4Vmiqu"
   },
   "outputs": [],
   "source": [
    "def sigmoid(z):\n",
    "    return 1 / (1 + np.exp(-z))"
   ]
  },
  {
   "cell_type": "code",
   "execution_count": null,
   "metadata": {
    "id": "_hVfhgJlmitI"
   },
   "outputs": [],
   "source": [
    "y_prob = sigmoid(z)"
   ]
  },
  {
   "cell_type": "markdown",
   "metadata": {
    "id": "-cp_iEXAmNWL"
   },
   "source": [
    "## Loss"
   ]
  },
  {
   "cell_type": "code",
   "execution_count": null,
   "metadata": {
    "id": "KQ9_b4xmmj9Q"
   },
   "outputs": [],
   "source": [
    "def compute_loss(y, y_pred):\n",
    "    epsilon = 1e-5\n",
    "    return -np.mean(y * np.log(y_pred + epsilon) + (1 - y) * np.log(1 - y_pred + epsilon))"
   ]
  },
  {
   "cell_type": "code",
   "execution_count": null,
   "metadata": {
    "id": "QqzBHu84mj_C"
   },
   "outputs": [],
   "source": [
    "compute_loss(y, y_prob)"
   ]
  },
  {
   "cell_type": "markdown",
   "metadata": {
    "id": "t8O_z84FmNXr"
   },
   "source": [
    "## Compute Gradients"
   ]
  },
  {
   "cell_type": "code",
   "execution_count": null,
   "metadata": {
    "id": "n7BP5J4_mlFk"
   },
   "outputs": [],
   "source": [
    "def compute_gradients(X, y, y_pred):\n",
    "    return np.dot(X.T, (y_pred - y)) / len(y)"
   ]
  },
  {
   "cell_type": "code",
   "execution_count": null,
   "metadata": {
    "id": "2geTxCKomlH-"
   },
   "outputs": [],
   "source": [
    "grads = compute_gradients(X, y, y_prob)"
   ]
  },
  {
   "cell_type": "code",
   "execution_count": null,
   "metadata": {
    "id": "dOZiGn3xmlKk"
   },
   "outputs": [],
   "source": [
    "grads[0:5]"
   ]
  },
  {
   "cell_type": "code",
   "execution_count": null,
   "metadata": {
    "id": "lHXzuwvcmmgu"
   },
   "outputs": [],
   "source": [
    "grads_b = np.mean(y_prob - y)"
   ]
  },
  {
   "cell_type": "code",
   "execution_count": null,
   "metadata": {
    "id": "bmApAUAFmmlv"
   },
   "outputs": [],
   "source": [
    "new_weights = weights -lr * grads"
   ]
  },
  {
   "cell_type": "code",
   "execution_count": null,
   "metadata": {
    "id": "_p5aCRbAmmrh"
   },
   "outputs": [],
   "source": [
    "new_weights[0:5]"
   ]
  },
  {
   "cell_type": "code",
   "execution_count": null,
   "metadata": {
    "id": "Z1Un9nqtmm1c"
   },
   "outputs": [],
   "source": [
    "new_b = bias - lr * grads_b"
   ]
  },
  {
   "cell_type": "markdown",
   "metadata": {
    "id": "a_B7-17mmNZj"
   },
   "source": [
    "# Functions"
   ]
  },
  {
   "cell_type": "code",
   "execution_count": null,
   "metadata": {
    "id": "NhHE2mlUmoRm"
   },
   "outputs": [],
   "source": [
    "def sigmoid(z):\n",
    "    return 1 / (1 + np.exp(-z))\n",
    "\n",
    "def compute_loss(y, y_pred):\n",
    "    epsilon = 1e-5\n",
    "    return -np.mean(y * np.log(y_pred + epsilon) + (1 - y) * np.log(1 - y_pred + epsilon))\n",
    "\n",
    "def compute_gradients(X, y, y_pred):\n",
    "    return np.dot(X.T, (y_pred - y)) / len(y)\n",
    "\n",
    "def gradient_descent(X, y, lr=0.01, epochs=100):\n",
    "    weights = np.zeros(X.shape[1])\n",
    "    bias = 0\n",
    "\n",
    "    for epoch in range(epochs):\n",
    "        z = np.dot(X, weights) + bias\n",
    "\n",
    "        y_pred = sigmoid(z)\n",
    "\n",
    "        loss = compute_loss(y, y_pred)\n",
    "\n",
    "        dw = compute_gradients(X, y, y_pred)\n",
    "\n",
    "        db = np.mean(y_pred - y)\n",
    "\n",
    "        weights -= lr * dw\n",
    "\n",
    "        bias -= lr * db\n",
    "\n",
    "        if (epoch + 1) % 10 == 0 or epoch == 0:\n",
    "\n",
    "            print(f'Epoch {epoch + 1}/{epochs}, Loss: {loss}')\n",
    "\n",
    "    return weights, bias\n",
    "\n",
    "def predict(X, weights, bias):\n",
    "\n",
    "    z = np.dot(X, weights) + bias\n",
    "\n",
    "    y_pred = sigmoid(z)\n",
    "\n",
    "    return y_pred >= 0.5"
   ]
  },
  {
   "cell_type": "markdown",
   "metadata": {
    "id": "2q3TuYBImYo0"
   },
   "source": [
    "# Training"
   ]
  },
  {
   "cell_type": "code",
   "execution_count": null,
   "metadata": {
    "id": "Fns029-_mqLg"
   },
   "outputs": [],
   "source": [
    "weights, bias = gradient_descent(X_train_scaled, y_train, lr=0.1, epochs=100)"
   ]
  },
  {
   "cell_type": "markdown",
   "metadata": {
    "id": "7iIQ5Q2vma0r"
   },
   "source": [
    "# Performance Evaluation"
   ]
  },
  {
   "cell_type": "code",
   "execution_count": null,
   "metadata": {
    "id": "H3ZvOcaKmrlC"
   },
   "outputs": [],
   "source": [
    "y_pred_valid = predict(X_val_scaled, weights, bias)"
   ]
  },
  {
   "cell_type": "code",
   "execution_count": null,
   "metadata": {
    "id": "zDQwgOGfzqyp"
   },
   "outputs": [],
   "source": [
    "accuracy = accuracy_score(y_val, y_pred_valid)"
   ]
  },
  {
   "cell_type": "code",
   "execution_count": null,
   "metadata": {
    "id": "rQY0KPi1zuSz"
   },
   "outputs": [],
   "source": [
    "print(f'Validation Accuracy: {accuracy}')"
   ]
  }
 ],
 "metadata": {
  "colab": {
   "provenance": [],
   "toc_visible": true
  },
  "kernelspec": {
   "display_name": "Python 3",
   "name": "python3"
  },
  "language_info": {
   "name": "python"
  }
 },
 "nbformat": 4,
 "nbformat_minor": 0
}
